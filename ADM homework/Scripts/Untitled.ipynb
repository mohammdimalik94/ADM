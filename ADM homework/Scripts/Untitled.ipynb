{
 "cells": [
  {
   "cell_type": "markdown",
   "metadata": {},
   "source": [
    "# Python"
   ]
  },
  {
   "cell_type": "markdown",
   "metadata": {},
   "source": [
    "Say \"Hello, World!\" With Python\n",
    "\n"
   ]
  },
  {
   "cell_type": "code",
   "execution_count": null,
   "metadata": {},
   "outputs": [],
   "source": [
    "print(\"Hello, World!\")"
   ]
  },
  {
   "cell_type": "markdown",
   "metadata": {},
   "source": [
    "Python If-Else\n",
    "\n"
   ]
  },
  {
   "cell_type": "code",
   "execution_count": null,
   "metadata": {},
   "outputs": [],
   "source": [
    "n = 24\n",
    "if(n % 2 !=0):\n",
    "    print(\"Weird\")\n",
    "elif((n % 2 == 0) and (5 <= n >= 2)):\n",
    "    print(\"Not Weird\")\n",
    "elif((n % 2 == 0) and (20 <= n >= 6)):\n",
    "    print(\"Weird\")\n",
    "elif((n % 2 == 0) and (n > 20)):\n",
    "    print(\"not Weird\")\n",
    "        \n"
   ]
  },
  {
   "cell_type": "markdown",
   "metadata": {},
   "source": [
    "Arithmetic Operators\n",
    "\n"
   ]
  },
  {
   "cell_type": "code",
   "execution_count": null,
   "metadata": {},
   "outputs": [],
   "source": [
    "if __name__ == '__main__':\n",
    "    a = int(input())\n",
    "    b = int(input())\n",
    "    summ = a + b\n",
    "    sub = a - b\n",
    "    mult = a * b\n",
    "    print(summ)\n",
    "    print(sub)\n",
    "    print(mult)\n"
   ]
  },
  {
   "cell_type": "markdown",
   "metadata": {},
   "source": [
    "Python: Division\n",
    "\n"
   ]
  },
  {
   "cell_type": "code",
   "execution_count": null,
   "metadata": {},
   "outputs": [],
   "source": [
    "x = int(input())\n",
    "y = int(input())\n",
    "print(x//y)\n",
    "print(x/y)\n"
   ]
  },
  {
   "cell_type": "markdown",
   "metadata": {},
   "source": [
    "Loops\n",
    "\n"
   ]
  },
  {
   "cell_type": "code",
   "execution_count": null,
   "metadata": {},
   "outputs": [],
   "source": [
    "x = int(input())\n",
    "for i in range(x):\n",
    "    print(i**2)\n"
   ]
  },
  {
   "cell_type": "markdown",
   "metadata": {},
   "source": [
    "Write a function\n",
    "\n"
   ]
  },
  {
   "cell_type": "code",
   "execution_count": null,
   "metadata": {},
   "outputs": [],
   "source": [
    "def is_leap(y):\n",
    "    if (y % 4 == 0):\n",
    "        leap = False\n",
    "        if(y % 100 == 0) and (y % 400 != 0):\n",
    "            return False\n",
    "        else:\n",
    "            return True\n",
    "    else:\n",
    "        return False\n",
    "        \n",
    "year = int(input())"
   ]
  },
  {
   "cell_type": "markdown",
   "metadata": {},
   "source": [
    "Print Function\n",
    "\n"
   ]
  },
  {
   "cell_type": "code",
   "execution_count": null,
   "metadata": {},
   "outputs": [],
   "source": [
    "n = int(input()) \n",
    "for i in range(1 ,n+1):\n",
    "    print(i,end='')\n"
   ]
  },
  {
   "cell_type": "markdown",
   "metadata": {},
   "source": [
    "# BASIC DATA TYPES"
   ]
  },
  {
   "cell_type": "markdown",
   "metadata": {},
   "source": [
    "List Comprehensions\n",
    "\n"
   ]
  },
  {
   "cell_type": "code",
   "execution_count": null,
   "metadata": {},
   "outputs": [],
   "source": [
    "if __name__ == '__main__':\n",
    "    x = int(input())\n",
    "    y = int(input())\n",
    "    z = int(input())\n",
    "    n = int(input())\n",
    "    x = [[i,j,k] for i in range(x+1) for j in range(y+1) for k in range(z+1) if i + j+ k != n ] \n",
    "    print(x)\n",
    "\n"
   ]
  },
  {
   "cell_type": "markdown",
   "metadata": {},
   "source": [
    "Find the Runner-Up Score!\n",
    "\n"
   ]
  },
  {
   "cell_type": "code",
   "execution_count": null,
   "metadata": {},
   "outputs": [],
   "source": [
    "n  = input()\n",
    "score = sorted(set(map(int , input().split())))\n",
    "print(score[-2])\n"
   ]
  },
  {
   "cell_type": "markdown",
   "metadata": {},
   "source": [
    "Lists"
   ]
  },
  {
   "cell_type": "code",
   "execution_count": null,
   "metadata": {},
   "outputs": [],
   "source": [
    "list = []\n",
    "n = int(input())\n",
    "for i in range(0,n):\n",
    "    s = input().split(\" \")\n",
    "    command_type = s[0]\n",
    "    i = 1\n",
    "    while i < len(s):\n",
    "        s[i] = int(s[i])\n",
    "        i += 1\n",
    "    if command_type == \"append\":\n",
    "        list.append(s[1])\n",
    "    elif command_type == \"insert\":\n",
    "        list.insert(s[1],s[2])\n",
    "    elif command_type == \"remove\":\n",
    "        list.remove(s[1])\n",
    "    elif command_type == \"pop\":\n",
    "        list.pop()\n",
    "    elif command_type == \"index\":\n",
    "        list.index(s[1])\n",
    "    elif command_type ==\"count\":\n",
    "        list.count()\n",
    "    elif command_type ==\"sort\":\n",
    "        list.sort()\n",
    "    elif command_type == \"reverse\":\n",
    "        list.reverse()\n",
    "    elif command_type == \"print\":\n",
    "        print(list)\n"
   ]
  },
  {
   "cell_type": "markdown",
   "metadata": {},
   "source": [
    "Tuples"
   ]
  },
  {
   "cell_type": "code",
   "execution_count": null,
   "metadata": {},
   "outputs": [],
   "source": [
    "if __name__ == '__main__':\n",
    "    n = int(input())\n",
    "    integer_list = map(int, input().split())\n",
    "\n"
   ]
  },
  {
   "cell_type": "markdown",
   "metadata": {},
   "source": []
  },
  {
   "cell_type": "markdown",
   "metadata": {},
   "source": [
    "# STRING\n"
   ]
  },
  {
   "cell_type": "markdown",
   "metadata": {},
   "source": [
    "sWAP cASE\n",
    "\n"
   ]
  },
  {
   "cell_type": "code",
   "execution_count": null,
   "metadata": {},
   "outputs": [],
   "source": [
    "def swap_case(s):\n",
    "    x = s.swapcase()\n",
    "    return x\n",
    "\n",
    "if __name__ == '__main__':\n",
    "    s = input()\n",
    "    result = swap_case(s)\n",
    "    print(result)"
   ]
  },
  {
   "cell_type": "markdown",
   "metadata": {},
   "source": [
    "String Split and Join\n",
    "\n"
   ]
  },
  {
   "cell_type": "code",
   "execution_count": null,
   "metadata": {},
   "outputs": [],
   "source": [
    "x = \"this is a string\"\n",
    "x = x.split('-')\n",
    "print(x)\n",
    "if __name__ == '__main__':\n",
    "    line = input()\n",
    "    result = split_and_join(line)\n",
    "    print(result)"
   ]
  },
  {
   "cell_type": "markdown",
   "metadata": {},
   "source": [
    "What's Your Name?\n",
    "\n"
   ]
  },
  {
   "cell_type": "code",
   "execution_count": null,
   "metadata": {},
   "outputs": [],
   "source": [
    "def print_full_name(a, b):\n",
    "    print(\"\")\n",
    "\n",
    "if __name__ == '__main__':\n",
    "    first_name = input()\n",
    "    last_name = input()\n",
    "    print_full_name(first_name, last_name)"
   ]
  },
  {
   "cell_type": "markdown",
   "metadata": {},
   "source": [
    "Mutations\n",
    "\n"
   ]
  },
  {
   "cell_type": "code",
   "execution_count": null,
   "metadata": {},
   "outputs": [],
   "source": [
    "def mutate_string(string,postion,char):\n",
    "    string = list(string)\n",
    "    string[postion] = char\n",
    "    return \"\".join(string)    \n",
    "\n",
    "\n",
    "if __name__ == '__main__':\n",
    "    s = input()\n",
    "    i, c = input().split()\n",
    "    s_new = mutate_string(s, int(i), c)\n",
    "    print(s_new)"
   ]
  },
  {
   "cell_type": "markdown",
   "metadata": {},
   "source": [
    "Find a string\n",
    "\n"
   ]
  },
  {
   "cell_type": "code",
   "execution_count": null,
   "metadata": {},
   "outputs": [],
   "source": [
    "def count_substring(string, sub_string):\n",
    "    count = 0\n",
    "    sub_len = len(sub_string)\n",
    "    for i in range(len(string)):\n",
    "        if string[i : i+sub_len] == sub_string:\n",
    "            count += 1\n",
    "    return count\n",
    "\n",
    "if __name__ == '__main__':\n",
    "    string = input().strip()\n",
    "    sub_string = input().strip()\n",
    "    \n",
    "    count = count_substring(string, sub_string)\n",
    "    print(count)"
   ]
  },
  {
   "cell_type": "markdown",
   "metadata": {},
   "source": [
    "String Validators\n",
    "\n"
   ]
  },
  {
   "cell_type": "code",
   "execution_count": null,
   "metadata": {},
   "outputs": [],
   "source": [
    "s = input()\n",
    "print(any(x.isalnum() for x in s))\n",
    "print(any(x.isalpha() for x in s))\n",
    "print(any(x.isdigit() for x in s))\n",
    "print(any(x.islower() for x in s))\n",
    "print(any(x.isupper() for x in s))\n"
   ]
  },
  {
   "cell_type": "markdown",
   "metadata": {},
   "source": [
    "Text Wrap\n",
    "\n"
   ]
  },
  {
   "cell_type": "code",
   "execution_count": null,
   "metadata": {},
   "outputs": [],
   "source": [
    "import textwrap\n",
    "\n",
    "def wrap(string, max_width):\n",
    "    string_wrap = textwrap.fill(string,max_width) \n",
    "    return string_wrap\n",
    "\n",
    "if __name__ == '__main__':\n",
    "    string, max_width = input(), int(input())\n",
    "    result = wrap(string, max_width)\n",
    "    print(result)"
   ]
  },
  {
   "cell_type": "markdown",
   "metadata": {},
   "source": [
    "Capitalize"
   ]
  },
  {
   "cell_type": "code",
   "execution_count": null,
   "metadata": {},
   "outputs": [],
   "source": [
    "import math\n",
    "import os\n",
    "import random\n",
    "import re\n",
    "import sys\n",
    "\n",
    "def solve(s):\n",
    "        return \" \".join([n.capitalize() for n in name.split(\" \")])\n",
    "\n",
    "if __name__ == '__main__':\n",
    "    fptr = open(os.environ['OUTPUT_PATH'], 'w')\n",
    "\n",
    "    s = input()\n",
    "\n",
    "    result = solve(s)\n",
    "\n",
    "    fptr.write(result + '\\n')\n",
    "\n",
    "    fptr.close()\n"
   ]
  },
  {
   "cell_type": "code",
   "execution_count": null,
   "metadata": {},
   "outputs": [],
   "source": []
  },
  {
   "cell_type": "code",
   "execution_count": null,
   "metadata": {},
   "outputs": [],
   "source": []
  },
  {
   "cell_type": "code",
   "execution_count": null,
   "metadata": {},
   "outputs": [],
   "source": []
  },
  {
   "cell_type": "code",
   "execution_count": null,
   "metadata": {},
   "outputs": [],
   "source": []
  },
  {
   "cell_type": "markdown",
   "metadata": {},
   "source": [
    "# Collections\n"
   ]
  },
  {
   "cell_type": "markdown",
   "metadata": {},
   "source": [
    "collections.Counter()"
   ]
  },
  {
   "cell_type": "code",
   "execution_count": null,
   "metadata": {},
   "outputs": [],
   "source": [
    "from collections import Counter\n",
    "X = int(input())\n",
    "sizes = Counter(map(int, input().split()))\n",
    "earn = 0\n",
    "for i in range(int(input())):\n",
    "    size, price = map(int, input().split())\n",
    "    if size in sizes.keys() and sizes.get(size)>0:\n",
    "        earn += price\n",
    "        sizes[size] -= 1    \n",
    "print(earn)"
   ]
  },
  {
   "cell_type": "markdown",
   "metadata": {},
   "source": [
    "Collections.namedtuple()\n",
    "\n"
   ]
  },
  {
   "cell_type": "code",
   "execution_count": null,
   "metadata": {},
   "outputs": [],
   "source": [
    "from collections import namedtuple\n",
    "N, categories = int(input()), input().upper().split()\n",
    "student_sheet_fill = namedtuple(\"student_sheet_fill\",categories)\n",
    "count_marks = 0\n",
    "for i in range(N):\n",
    "    a,b,c,d = input().split()\n",
    "    student_sheet = student_sheet_fill(a,b,c,d)\n",
    "    count_marks += int(student_sheet.MARKS)\n",
    "print(count_marks/N)"
   ]
  },
  {
   "cell_type": "markdown",
   "metadata": {},
   "source": [
    "Collections.deque()"
   ]
  },
  {
   "cell_type": "code",
   "execution_count": null,
   "metadata": {},
   "outputs": [],
   "source": [
    "from collections import deque\n",
    "d=deque()\n",
    "N=int(input())\n",
    "for i in range(N):\n",
    "    n=(input().split())    \n",
    "    if n[0]==\"append\":\n",
    "        d.append(n[1])\n",
    "    elif n[0]==\"appendleft\":\n",
    "        d.appendleft(n[1])\n",
    "    elif n[0]==\"pop\":\n",
    "        d.pop()\n",
    "    elif n[0]==\"popleft\":\n",
    "        d.popleft()\n",
    "for i in d:\n",
    "    print(i,end=\" \")\n"
   ]
  },
  {
   "cell_type": "markdown",
   "metadata": {},
   "source": [
    "# itertools"
   ]
  },
  {
   "cell_type": "markdown",
   "metadata": {},
   "source": [
    "itertools.product()"
   ]
  },
  {
   "cell_type": "code",
   "execution_count": null,
   "metadata": {},
   "outputs": [],
   "source": [
    "from itertools import product\n",
    "A = map(int,input().split())\n",
    "B = map(int, input().split())\n",
    "print(*product(A,B))"
   ]
  },
  {
   "cell_type": "markdown",
   "metadata": {},
   "source": [
    "itertools.permutations()"
   ]
  },
  {
   "cell_type": "markdown",
   "metadata": {},
   "source": [
    "from itertools import permutations\n",
    "s, k = input().split()\n",
    "permutations = list(permutations(s, int(k)))\n",
    "permutations.sort()\n",
    "for i in permutations:\n",
    "    print(\"\".join(i))"
   ]
  },
  {
   "cell_type": "markdown",
   "metadata": {},
   "source": [
    "itertools.combinations()\n",
    "\n"
   ]
  },
  {
   "cell_type": "code",
   "execution_count": null,
   "metadata": {},
   "outputs": [],
   "source": [
    "from itertools import combinations\n",
    "s = input().upper().split()\n",
    "string, value = sorted(s[0]), int(s[1])\n",
    "for i in range(1, value + 1):\n",
    "    print(*list(map(''.join, combinations(string, i))), sep='\\n')\n"
   ]
  },
  {
   "cell_type": "markdown",
   "metadata": {},
   "source": [
    "itertools.combinations_with_replacement()"
   ]
  },
  {
   "cell_type": "code",
   "execution_count": null,
   "metadata": {},
   "outputs": [],
   "source": [
    "from itertools import combinations_with_replacement\n",
    "s = input().upper().split()\n",
    "string, value = sorted(s[0]), int(s[1])\n",
    "print(*list(map(''.join, combinations_with_replacement(string, value))), sep='\\n')"
   ]
  },
  {
   "cell_type": "markdown",
   "metadata": {},
   "source": [
    "# sets\n"
   ]
  },
  {
   "cell_type": "markdown",
   "metadata": {},
   "source": [
    "Introduction to Sets\n",
    "\n"
   ]
  },
  {
   "cell_type": "code",
   "execution_count": null,
   "metadata": {},
   "outputs": [],
   "source": [
    "def average(array):\n",
    "    arr =set(array)\n",
    "    sum_arr = sum(arr)\n",
    "    len_arr = len(arr)\n",
    "    x= sum_arr/len_arr\n",
    "    return x\n",
    "if __name__ == '__main__':\n",
    "    n = int(input())\n",
    "    arr = list(map(int, input().split()))\n",
    "    result = average(arr)\n",
    "    print(result)"
   ]
  },
  {
   "cell_type": "markdown",
   "metadata": {},
   "source": [
    "Set .add()"
   ]
  },
  {
   "cell_type": "code",
   "execution_count": null,
   "metadata": {},
   "outputs": [],
   "source": [
    "n = int(input())\n",
    "s = set()\n",
    "for i in range(n):\n",
    "    s.add(input())\n",
    "print(len(s))\n"
   ]
  },
  {
   "cell_type": "markdown",
   "metadata": {},
   "source": [
    "Set .union() Operation\n",
    "\n"
   ]
  },
  {
   "cell_type": "code",
   "execution_count": null,
   "metadata": {},
   "outputs": [],
   "source": [
    "set1_size = int(input())\n",
    "set1 = set(map(int,input().split()))\n",
    "set2_size = int(input())\n",
    "set2 = set(map(int,input().split()))\n",
    "print(len(set1.union(set2)))\n"
   ]
  },
  {
   "cell_type": "markdown",
   "metadata": {},
   "source": [
    "Set .discard(), .remove() & .pop()\n",
    "\n"
   ]
  },
  {
   "cell_type": "code",
   "execution_count": null,
   "metadata": {},
   "outputs": [],
   "source": [
    "n = int(input())\n",
    "s = set(map(int, input().split()))\n",
    "for i in range(int(input())):\n",
    "    string = input().split()\n",
    "    if string[0] == 'pop': s.pop()\n",
    "    elif string[0] == 'remove': s.remove(int(string[1]))\n",
    "    elif string[0] == 'discard': s.discard(int(string[1]))\n",
    "print(sum(s))\n"
   ]
  },
  {
   "cell_type": "markdown",
   "metadata": {},
   "source": [
    "Set .intersection() Operation\n",
    "\n"
   ]
  },
  {
   "cell_type": "code",
   "execution_count": null,
   "metadata": {},
   "outputs": [],
   "source": [
    "set1_size = int(input())\n",
    "set1 = set(map(int,input().split()))\n",
    "set2_size = int(input())\n",
    "set2 = set(map(int,input().split()))\n",
    "print(len(set1.intersection(set2)))\n"
   ]
  },
  {
   "cell_type": "markdown",
   "metadata": {},
   "source": [
    "Set .difference() Operation\n",
    "\n"
   ]
  },
  {
   "cell_type": "code",
   "execution_count": null,
   "metadata": {},
   "outputs": [],
   "source": [
    "a,lista=(int(input()),input().split())\n",
    "seta=set(lista)\n",
    "c,listb=(int(input()),input().split())\n",
    "setb=set(listb)\n",
    "result = seta.difference(setb)\n",
    "print(len(result))\n"
   ]
  },
  {
   "cell_type": "markdown",
   "metadata": {},
   "source": [
    "Symmetric Difference\n",
    "\n"
   ]
  },
  {
   "cell_type": "markdown",
   "metadata": {},
   "source": [
    "set1=input()\n",
    "a = set(input().split())\n",
    "input()\n",
    "b = set(input().split())\n",
    "union = a.union(b)\n",
    "intersection = a.intersection(b)\n",
    "symatric = union.difference(intersection)\n",
    "for i in symatric:\n",
    "    print(i,i+1)"
   ]
  },
  {
   "cell_type": "markdown",
   "metadata": {},
   "source": [
    "Set Mutations\n",
    "\n"
   ]
  },
  {
   "cell_type": "code",
   "execution_count": null,
   "metadata": {},
   "outputs": [],
   "source": [
    "size1 = int(input())\n",
    "s1 = set(map(int, input().split()))\n",
    "n = int(input())\n",
    "\n",
    "for i in range(n):\n",
    "    s, size2 = input().split()\n",
    "    s2 = set(map(int, input().split()))\n",
    "    if(s == \"intersection_update\"):\n",
    "        s1.intersection_update(s2)\n",
    "    elif(s == \"update\"):\n",
    "        s1.update(s2)\n",
    "    elif(s == \"symmetric_difference_update\"):\n",
    "        s1.symmetric_difference_update(s2)\n",
    "    elif(s == \"difference_update\"):\n",
    "        s1.difference_update(s2)\n",
    "\n",
    "print(sum(s1))\n"
   ]
  },
  {
   "cell_type": "markdown",
   "metadata": {},
   "source": [
    "Check Subset\n",
    "\n"
   ]
  },
  {
   "cell_type": "code",
   "execution_count": null,
   "metadata": {},
   "outputs": [],
   "source": [
    "for i in range(int(input())):\n",
    "    A, seta = input(), set(input().split())\n",
    "    B, setb = input(), set(input().split())\n",
    "    print(all([i in setb for i in seta]))\n"
   ]
  },
  {
   "cell_type": "markdown",
   "metadata": {},
   "source": [
    "# DATE and TIME"
   ]
  },
  {
   "cell_type": "markdown",
   "metadata": {},
   "source": [
    "Calendar Module\n",
    "\n"
   ]
  },
  {
   "cell_type": "code",
   "execution_count": null,
   "metadata": {},
   "outputs": [],
   "source": [
    "import datetime   \n",
    "def findDay(day,month, year):      \n",
    "    born = datetime.date(year, day, month) \n",
    "    return born.strftime(\"%A\") \n",
    "day, month, year = map(int ,input().split())\n",
    "d = findDay(day,month, year)\n",
    "print(d.upper())\n"
   ]
  },
  {
   "cell_type": "code",
   "execution_count": null,
   "metadata": {},
   "outputs": [],
   "source": []
  }
 ],
 "metadata": {
  "kernelspec": {
   "display_name": "Python 3",
   "language": "python",
   "name": "python3"
  },
  "language_info": {
   "codemirror_mode": {
    "name": "ipython",
    "version": 3
   },
   "file_extension": ".py",
   "mimetype": "text/x-python",
   "name": "python",
   "nbconvert_exporter": "python",
   "pygments_lexer": "ipython3",
   "version": "3.7.3"
  }
 },
 "nbformat": 4,
 "nbformat_minor": 2
}
